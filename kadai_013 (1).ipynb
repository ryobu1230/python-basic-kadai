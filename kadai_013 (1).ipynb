{
  "nbformat": 4,
  "nbformat_minor": 0,
  "metadata": {
    "colab": {
      "provenance": []
    },
    "kernelspec": {
      "name": "python3",
      "display_name": "Python 3"
    },
    "language_info": {
      "name": "python"
    }
  },
  "cells": [
    {
      "cell_type": "code",
      "execution_count": null,
      "metadata": {
        "id": "eWGNgKqjKAff"
      },
      "outputs": [],
      "source": []
    },
    {
      "cell_type": "code",
      "source": [
        "def add_two_arguments(price, tax):\n",
        "    total = price +price*(tax/100)\n",
        "\n",
        "    return total\n",
        "\n",
        "price = 500\n",
        "tax = 10\n",
        "ans = add_two_arguments(price, tax)\n",
        "print(ans)"
      ],
      "metadata": {
        "colab": {
          "base_uri": "https://localhost:8080/"
        },
        "id": "T_2CfdXe1-MZ",
        "outputId": "154a495c-4d47-4122-d2fd-3bfef01c16e0"
      },
      "execution_count": null,
      "outputs": [
        {
          "output_type": "stream",
          "name": "stdout",
          "text": [
            "550.0\n"
          ]
        }
      ]
    }
  ]
}