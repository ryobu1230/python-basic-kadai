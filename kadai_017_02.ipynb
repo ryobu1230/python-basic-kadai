{
  "nbformat": 4,
  "nbformat_minor": 0,
  "metadata": {
    "colab": {
      "provenance": []
    },
    "kernelspec": {
      "name": "python3",
      "display_name": "Python 3"
    },
    "language_info": {
      "name": "python"
    }
  },
  "cells": [
    {
      "cell_type": "code",
      "execution_count": null,
      "metadata": {
        "colab": {
          "base_uri": "https://localhost:8080/"
        },
        "id": "8bjJ7Ll_7Q8f",
        "outputId": "842f0b4c-36fc-4df0-c9a0-f6ee33a8e322"
      },
      "outputs": [
        {
          "output_type": "stream",
          "name": "stdout",
          "text": [
            "大人である\n",
            "大人でない\n"
          ]
        }
      ],
      "source": [
        "class Human:\n",
        "    def __init__(self, name, age):\n",
        "      self.nama = name\n",
        "      self.age = age\n",
        "\n",
        "    def check_adult(self):\n",
        "\n",
        "\n",
        "      if self.age >= 20:\n",
        "        print(\"大人である\")\n",
        "\n",
        "      else:\n",
        "        print(\"大人でない\")\n",
        "\n",
        "humanA =Human(\"アリス\" ,20)\n",
        "humanB = Human(\"マリア\",9)\n",
        "humanlist = [humanA ,humanB]\n",
        "\n",
        "for human in humanlist:\n",
        "    human.check_adult()\n",
        "\n"
      ]
    }
  ]
}