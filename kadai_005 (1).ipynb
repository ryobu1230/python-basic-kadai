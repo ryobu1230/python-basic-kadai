{
  "nbformat": 4,
  "nbformat_minor": 0,
  "metadata": {
    "colab": {
      "provenance": []
    },
    "kernelspec": {
      "name": "python3",
      "display_name": "Python 3"
    },
    "language_info": {
      "name": "python"
    }
  },
  "cells": [
    {
      "cell_type": "code",
      "execution_count": null,
      "metadata": {
        "colab": {
          "base_uri": "https://localhost:8080/"
        },
        "id": "MvxkGgRA1Lz1",
        "outputId": "1fb79703-d6b4-45c2-ac04-cabc7ac7ea57"
      },
      "outputs": [
        {
          "output_type": "stream",
          "name": "stdout",
          "text": [
            "台形の面積は75.0cm2\n"
          ]
        }
      ],
      "source": [
        "a = 10 # cm\n",
        "b = 20 # cm\n",
        "c = 5 # cm\n",
        "\n",
        "d = (a + b) * c / 2\n",
        "\n",
        "print (\"台形の面積は\" + str(d) + \"cm2\")"
      ]
    }
  ]
}