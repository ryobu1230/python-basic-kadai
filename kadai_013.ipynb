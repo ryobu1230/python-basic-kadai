{
  "nbformat": 4,
  "nbformat_minor": 0,
  "metadata": {
    "colab": {
      "provenance": []
    },
    "kernelspec": {
      "name": "python3",
      "display_name": "Python 3"
    },
    "language_info": {
      "name": "python"
    }
  },
  "cells": [
    {
      "cell_type": "code",
      "execution_count": null,
      "metadata": {
        "id": "eWGNgKqjKAff"
      },
      "outputs": [],
      "source": []
    },
    {
      "cell_type": "code",
      "source": [
        "def add_two_arguments(price, tax):\n",
        "    total = price +price*(tax/100)\n",
        "\n",
        "    print(f\"{total}円\")\n",
        "\n",
        "price = 500\n",
        "tax = 10\n",
        "add_two_arguments(price, tax)"
      ],
      "metadata": {
        "colab": {
          "base_uri": "https://localhost:8080/"
        },
        "id": "T_2CfdXe1-MZ",
        "outputId": "dccf202b-222e-46e2-f4a1-3e7085a1901d"
      },
      "execution_count": null,
      "outputs": [
        {
          "output_type": "stream",
          "name": "stdout",
          "text": [
            "550.0円\n"
          ]
        }
      ]
    }
  ]
}