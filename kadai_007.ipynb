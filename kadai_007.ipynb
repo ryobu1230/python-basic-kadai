{
  "nbformat": 4,
  "nbformat_minor": 0,
  "metadata": {
    "colab": {
      "provenance": []
    },
    "kernelspec": {
      "name": "python3",
      "display_name": "Python 3"
    },
    "language_info": {
      "name": "python"
    }
  },
  "cells": [
    {
      "cell_type": "code",
      "execution_count": null,
      "metadata": {
        "colab": {
          "base_uri": "https://localhost:8080/"
        },
        "id": "8hWpA7_QIq9Q",
        "outputId": "9dc553ee-6dc0-4a19-f567-9d2c6f67fd8b"
      },
      "outputs": [
        {
          "output_type": "stream",
          "name": "stdout",
          "text": [
            "水曜日は晴れです\n",
            "晴れ\n"
          ]
        }
      ],
      "source": [
        "arrays = [\"月曜日は晴れです\",  \"火曜日は雨です\", \"水曜日は晴れです\", \"木曜日は晴れです\", \"金曜日は曇りです\", \"土曜日は曇りのち雨です\", \"日曜日は雷雨です\"]\n",
        "\n",
        "print(arrays[2])\n",
        "\n",
        "\n",
        "dictionary = {\"mon\": \"晴れ\", \"tue\": \"雨\" , \"wed\": \"晴れ\", \"thu\": \"晴れ\" , \"fri\":\"曇り\", \"sat\":\"曇りのち雨\", \"sun\":\"雷雨\"}\n",
        "\n",
        "print(dictionary[\"wed\"])"
      ]
    }
  ]
}